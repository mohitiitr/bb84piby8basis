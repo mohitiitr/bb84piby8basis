{
  "nbformat": 4,
  "nbformat_minor": 0,
  "metadata": {
    "colab": {
      "name": "BB84piby8basis.ipynb",
      "version": "0.3.2",
      "provenance": [],
      "collapsed_sections": [],
      "include_colab_link": true
    },
    "kernelspec": {
      "name": "python3",
      "display_name": "Python 3"
    }
  },
  "cells": [
    {
      "cell_type": "markdown",
      "metadata": {
        "id": "view-in-github",
        "colab_type": "text"
      },
      "source": [
        "<a href=\"https://colab.research.google.com/github/mohitiitr/bb84piby8basis/blob/master/BB84piby8basis.ipynb\" target=\"_parent\"><img src=\"https://colab.research.google.com/assets/colab-badge.svg\" alt=\"Open In Colab\"/></a>"
      ]
    },
    {
      "cell_type": "code",
      "metadata": {
        "id": "InCkNlo8VsEi",
        "colab_type": "code",
        "colab": {
          "base_uri": "https://localhost:8080/",
          "height": 955
        },
        "outputId": "f4860808-cb6f-4400-d752-85276acece3e"
      },
      "source": [
        "!pip install qiskit"
      ],
      "execution_count": 4,
      "outputs": [
        {
          "output_type": "stream",
          "text": [
            "Requirement already satisfied: qiskit in /usr/local/lib/python3.6/dist-packages (0.10.2)\n",
            "Requirement already satisfied: qiskit_terra==0.8.0 in /usr/local/lib/python3.6/dist-packages (from qiskit) (0.8.0)\n",
            "Requirement already satisfied: qiskit-aer==0.2.1 in /usr/local/lib/python3.6/dist-packages (from qiskit) (0.2.1)\n",
            "Requirement already satisfied: qiskit-ibmq-provider==0.2.2 in /usr/local/lib/python3.6/dist-packages (from qiskit) (0.2.2)\n",
            "Requirement already satisfied: qiskit-ignis==0.1.1 in /usr/local/lib/python3.6/dist-packages (from qiskit) (0.1.1)\n",
            "Requirement already satisfied: qiskit-aqua==0.5.1 in /usr/local/lib/python3.6/dist-packages (from qiskit) (0.5.1)\n",
            "Requirement already satisfied: qiskit-chemistry==0.5.0 in /usr/local/lib/python3.6/dist-packages (from qiskit) (0.5.0)\n",
            "Requirement already satisfied: jsonschema<2.7,>=2.6 in /usr/local/lib/python3.6/dist-packages (from qiskit_terra==0.8.0->qiskit) (2.6.0)\n",
            "Requirement already satisfied: marshmallow<3,>=2.17.0 in /usr/local/lib/python3.6/dist-packages (from qiskit_terra==0.8.0->qiskit) (2.19.2)\n",
            "Requirement already satisfied: marshmallow-polyfield<4,>=3.2 in /usr/local/lib/python3.6/dist-packages (from qiskit_terra==0.8.0->qiskit) (3.2)\n",
            "Requirement already satisfied: numpy>=1.13 in /usr/local/lib/python3.6/dist-packages (from qiskit_terra==0.8.0->qiskit) (1.16.3)\n",
            "Requirement already satisfied: pillow>=4.2.1 in /usr/local/lib/python3.6/dist-packages (from qiskit_terra==0.8.0->qiskit) (4.3.0)\n",
            "Requirement already satisfied: pylatexenc>=1.4 in /usr/local/lib/python3.6/dist-packages (from qiskit_terra==0.8.0->qiskit) (1.4)\n",
            "Requirement already satisfied: networkx>=2.2 in /usr/local/lib/python3.6/dist-packages (from qiskit_terra==0.8.0->qiskit) (2.3)\n",
            "Requirement already satisfied: psutil>=5 in /usr/local/lib/python3.6/dist-packages (from qiskit_terra==0.8.0->qiskit) (5.4.8)\n",
            "Requirement already satisfied: sympy>=1.3 in /usr/local/lib/python3.6/dist-packages (from qiskit_terra==0.8.0->qiskit) (1.4)\n",
            "Requirement already satisfied: ply>=3.10 in /usr/local/lib/python3.6/dist-packages (from qiskit_terra==0.8.0->qiskit) (3.11)\n",
            "Requirement already satisfied: scipy>=1.0 in /usr/local/lib/python3.6/dist-packages (from qiskit_terra==0.8.0->qiskit) (1.3.0)\n",
            "Requirement already satisfied: requests-ntlm>=1.1.0 in /usr/local/lib/python3.6/dist-packages (from qiskit-ibmq-provider==0.2.2->qiskit) (1.1.0)\n",
            "Requirement already satisfied: requests>=2.19 in /usr/local/lib/python3.6/dist-packages (from qiskit-ibmq-provider==0.2.2->qiskit) (2.21.0)\n",
            "Requirement already satisfied: websockets<8,>=7 in /usr/local/lib/python3.6/dist-packages (from qiskit-ibmq-provider==0.2.2->qiskit) (7.0)\n",
            "Requirement already satisfied: cvxopt in /usr/local/lib/python3.6/dist-packages (from qiskit-aqua==0.5.1->qiskit) (1.2.3)\n",
            "Requirement already satisfied: dlx in /usr/local/lib/python3.6/dist-packages (from qiskit-aqua==0.5.1->qiskit) (1.0.4)\n",
            "Requirement already satisfied: quandl in /usr/local/lib/python3.6/dist-packages (from qiskit-aqua==0.5.1->qiskit) (3.4.8)\n",
            "Requirement already satisfied: pyeda; sys_platform != \"win32\" in /usr/local/lib/python3.6/dist-packages (from qiskit-aqua==0.5.1->qiskit) (0.28.0)\n",
            "Requirement already satisfied: setuptools>=40.1.0 in /usr/local/lib/python3.6/dist-packages (from qiskit-aqua==0.5.1->qiskit) (41.0.1)\n",
            "Requirement already satisfied: scikit-learn>=0.20.0 in /usr/local/lib/python3.6/dist-packages (from qiskit-aqua==0.5.1->qiskit) (0.21.1)\n",
            "Requirement already satisfied: fastdtw in /usr/local/lib/python3.6/dist-packages (from qiskit-aqua==0.5.1->qiskit) (0.3.2)\n",
            "Requirement already satisfied: docplex in /usr/local/lib/python3.6/dist-packages (from qiskit-aqua==0.5.1->qiskit) (2.9.141)\n",
            "Requirement already satisfied: pyscf; sys_platform != \"win32\" in /usr/local/lib/python3.6/dist-packages (from qiskit-chemistry==0.5.0->qiskit) (1.6.1.post1)\n",
            "Requirement already satisfied: h5py in /usr/local/lib/python3.6/dist-packages (from qiskit-chemistry==0.5.0->qiskit) (2.8.0)\n",
            "Requirement already satisfied: olefile in /usr/local/lib/python3.6/dist-packages (from pillow>=4.2.1->qiskit_terra==0.8.0->qiskit) (0.46)\n",
            "Requirement already satisfied: decorator>=4.3.0 in /usr/local/lib/python3.6/dist-packages (from networkx>=2.2->qiskit_terra==0.8.0->qiskit) (4.4.0)\n",
            "Requirement already satisfied: mpmath>=0.19 in /usr/local/lib/python3.6/dist-packages (from sympy>=1.3->qiskit_terra==0.8.0->qiskit) (1.1.0)\n",
            "Requirement already satisfied: ntlm-auth>=1.0.2 in /usr/local/lib/python3.6/dist-packages (from requests-ntlm>=1.1.0->qiskit-ibmq-provider==0.2.2->qiskit) (1.3.0)\n",
            "Requirement already satisfied: cryptography>=1.3 in /usr/local/lib/python3.6/dist-packages (from requests-ntlm>=1.1.0->qiskit-ibmq-provider==0.2.2->qiskit) (2.6.1)\n",
            "Requirement already satisfied: idna<2.9,>=2.5 in /usr/local/lib/python3.6/dist-packages (from requests>=2.19->qiskit-ibmq-provider==0.2.2->qiskit) (2.8)\n",
            "Requirement already satisfied: urllib3<1.25,>=1.21.1 in /usr/local/lib/python3.6/dist-packages (from requests>=2.19->qiskit-ibmq-provider==0.2.2->qiskit) (1.24.3)\n",
            "Requirement already satisfied: certifi>=2017.4.17 in /usr/local/lib/python3.6/dist-packages (from requests>=2.19->qiskit-ibmq-provider==0.2.2->qiskit) (2019.3.9)\n",
            "Requirement already satisfied: chardet<3.1.0,>=3.0.2 in /usr/local/lib/python3.6/dist-packages (from requests>=2.19->qiskit-ibmq-provider==0.2.2->qiskit) (3.0.4)\n",
            "Requirement already satisfied: inflection>=0.3.1 in /usr/local/lib/python3.6/dist-packages (from quandl->qiskit-aqua==0.5.1->qiskit) (0.3.1)\n",
            "Requirement already satisfied: pandas>=0.14 in /usr/local/lib/python3.6/dist-packages (from quandl->qiskit-aqua==0.5.1->qiskit) (0.24.2)\n",
            "Requirement already satisfied: ndg-httpsclient in /usr/local/lib/python3.6/dist-packages (from quandl->qiskit-aqua==0.5.1->qiskit) (0.5.1)\n",
            "Requirement already satisfied: pyOpenSSL in /usr/local/lib/python3.6/dist-packages (from quandl->qiskit-aqua==0.5.1->qiskit) (19.0.0)\n",
            "Requirement already satisfied: more-itertools<=5.0.0 in /usr/local/lib/python3.6/dist-packages (from quandl->qiskit-aqua==0.5.1->qiskit) (5.0.0)\n",
            "Requirement already satisfied: six in /usr/local/lib/python3.6/dist-packages (from quandl->qiskit-aqua==0.5.1->qiskit) (1.12.0)\n",
            "Requirement already satisfied: pyasn1 in /usr/local/lib/python3.6/dist-packages (from quandl->qiskit-aqua==0.5.1->qiskit) (0.4.5)\n",
            "Requirement already satisfied: python-dateutil in /usr/local/lib/python3.6/dist-packages (from quandl->qiskit-aqua==0.5.1->qiskit) (2.5.3)\n",
            "Requirement already satisfied: joblib>=0.11 in /usr/local/lib/python3.6/dist-packages (from scikit-learn>=0.20.0->qiskit-aqua==0.5.1->qiskit) (0.12.5)\n",
            "Requirement already satisfied: docloud>=1.0.315 in /usr/local/lib/python3.6/dist-packages (from docplex->qiskit-aqua==0.5.1->qiskit) (1.0.369)\n",
            "Requirement already satisfied: asn1crypto>=0.21.0 in /usr/local/lib/python3.6/dist-packages (from cryptography>=1.3->requests-ntlm>=1.1.0->qiskit-ibmq-provider==0.2.2->qiskit) (0.24.0)\n",
            "Requirement already satisfied: cffi!=1.11.3,>=1.8 in /usr/local/lib/python3.6/dist-packages (from cryptography>=1.3->requests-ntlm>=1.1.0->qiskit-ibmq-provider==0.2.2->qiskit) (1.12.3)\n",
            "Requirement already satisfied: pytz>=2011k in /usr/local/lib/python3.6/dist-packages (from pandas>=0.14->quandl->qiskit-aqua==0.5.1->qiskit) (2018.9)\n",
            "Requirement already satisfied: pycparser in /usr/local/lib/python3.6/dist-packages (from cffi!=1.11.3,>=1.8->cryptography>=1.3->requests-ntlm>=1.1.0->qiskit-ibmq-provider==0.2.2->qiskit) (2.19)\n"
          ],
          "name": "stdout"
        }
      ]
    },
    {
      "cell_type": "markdown",
      "metadata": {
        "id": "XcaDuzXbl_mL",
        "colab_type": "text"
      },
      "source": [
        "# BB84 Quantum Key Distribution (QKD) Protocol Using Basis (pi/8,0)and(5pi/8,0). \n",
        " \n",
        "BB84 is a quantum key distribution scheme developed by Charles Bennett and Gilles Brassard in 1984 ([paper]).\n",
        "This file discuss the case without evesdroppers.\n",
        "\n",
        "The basis are given name as M basis .\n",
        "\n",
        "First is $cos (\\pi/8) \\ket{0} +sin(\\pi/8)\\ket{1}$ denoted by everywhere further by $ \\ket{m1/8}$.\n",
        "\n",
        "Second is  $cos (5\\pi/8) \\ket{0} +sin(5\\pi/8)\\ket{1}$ denoted by everywhere further by $ \\ket{m5/8}$.\n",
        "\n",
        "[paper]: http://researcher.watson.ibm.com/researcher/files/us-bennetc/BB84highest.pdf \n",
        "\n",
        "$$ \\newcommand{\\ket}[1]{\\left|{#1}\\right\\rangle}\n",
        "\\newcommand{\\bra}[1]{\\left\\langle{#1}\\right|}$$"
      ]
    },
    {
      "cell_type": "code",
      "metadata": {
        "id": "48Nq5dTpVtjb",
        "colab_type": "code",
        "outputId": "8380763b-ab53-452c-a4ec-8e3fbee12fad",
        "colab": {
          "base_uri": "https://localhost:8080/",
          "height": 34
        }
      },
      "source": [
        "from qiskit import BasicAer\n",
        "from qiskit import QuantumCircuit, QuantumRegister, ClassicalRegister\n",
        "from qiskit import execute\n",
        "from qiskit.visualization import plot_histogram, plot_bloch_multivector\n",
        "from qiskit import IBMQ\n",
        "\n",
        "from qiskit.tools.monitor import job_monitor\n",
        "%pylab inline"
      ],
      "execution_count": 6,
      "outputs": [
        {
          "output_type": "stream",
          "text": [
            "Populating the interactive namespace from numpy and matplotlib\n"
          ],
          "name": "stdout"
        }
      ]
    },
    {
      "cell_type": "markdown",
      "metadata": {
        "id": "Pk39q9Ey4EsA",
        "colab_type": "text"
      },
      "source": [
        "# Visualing States of M basis \n",
        "\n",
        "In this section there is the code to help us see the visual form of our considered M basis on Bloch Sphere."
      ]
    },
    {
      "cell_type": "code",
      "metadata": {
        "id": "eoKLP6DX44ox",
        "colab_type": "code",
        "colab": {}
      },
      "source": [
        "BasicAer.backends()\n",
        "backend = BasicAer.get_backend('statevector_simulator')"
      ],
      "execution_count": 0,
      "outputs": []
    },
    {
      "cell_type": "code",
      "metadata": {
        "id": "lNQnb7wq4W9Z",
        "colab_type": "code",
        "colab": {
          "base_uri": "https://localhost:8080/",
          "height": 285
        },
        "outputId": "a1fc8a3b-b703-475c-a7b8-201166d1e2a3"
      },
      "source": [
        "m18 = QuantumRegister (1)\n",
        "c18 = ClassicalRegister(1)\n",
        "circ2 =QuantumCircuit(m18,c18)\n",
        "circ2.ry(pi/8, m18)\n",
        "\n",
        "\n",
        "job1 =execute(circ2,backend)\n",
        "job_monitor(job1)\n",
        "result1=job1.result()\n",
        "chi=result1.get_statevector(circ2)\n",
        "plot_bloch_multivector(chi)"
      ],
      "execution_count": 8,
      "outputs": [
        {
          "output_type": "stream",
          "text": [
            "Job Status: job has successfully run\n"
          ],
          "name": "stdout"
        },
        {
          "output_type": "execute_result",
          "data": {
            "image/png": "[encoded data removed]",
            "text/plain": [
              "<Figure size 288x288 with 1 Axes>"
            ]
          },
          "metadata": {
            "tags": []
          },
          "execution_count": 8
        }
      ]
    },
    {
      "cell_type": "code",
      "metadata": {
        "id": "FmLWAgj-4Wtm",
        "colab_type": "code",
        "colab": {
          "base_uri": "https://localhost:8080/",
          "height": 285
        },
        "outputId": "19c9b902-0c62-4826-8314-5c7ba566d2a8"
      },
      "source": [
        "m58 = QuantumRegister (1)\n",
        "c58 = ClassicalRegister(1)\n",
        "circ3 =QuantumCircuit(m58,c58)\n",
        "circ3.x(m58)\n",
        "circ3.ry(pi/8, m58)\n",
        "\n",
        "\n",
        "job2 =execute(circ3,backend)\n",
        "job_monitor(job2)\n",
        "result2=job2.result()\n",
        "chi_anti_polar=result2.get_statevector(circ3)\n",
        "plot_bloch_multivector(chi_anti_polar)"
      ],
      "execution_count": 11,
      "outputs": [
        {
          "output_type": "stream",
          "text": [
            "Job Status: job has successfully run\n"
          ],
          "name": "stdout"
        },
        {
          "output_type": "execute_result",
          "data": {
            "image/png": "[encoded data removed]",
            "text/plain": [
              "<Figure size 288x288 with 1 Axes>"
            ]
          },
          "metadata": {
            "tags": []
          },
          "execution_count": 11
        }
      ]
    },
    {
      "cell_type": "code",
      "metadata": {
        "id": "RYswAq4D_y-m",
        "colab_type": "code",
        "colab": {
          "base_uri": "https://localhost:8080/",
          "height": 331
        },
        "outputId": "83a0002a-b73f-4954-cecd-064b4d549a7d"
      },
      "source": [
        "plot_bloch_multivector(chi,chi_anti_polar)"
      ],
      "execution_count": 13,
      "outputs": [
        {
          "output_type": "stream",
          "text": [
            "/usr/local/lib/python3.6/dist-packages/matplotlib/text.py:1191: FutureWarning: elementwise comparison failed; returning scalar instead, but in the future will perform elementwise comparison\n",
            "  if s != self._text:\n"
          ],
          "name": "stderr"
        },
        {
          "output_type": "execute_result",
          "data": {
            "image/png": "[encoded data removed]",
            "text/plain": [
              "<Figure size 288x288 with 1 Axes>"
            ]
          },
          "metadata": {
            "tags": []
          },
          "execution_count": 13
        }
      ]
    },
    {
      "cell_type": "markdown",
      "metadata": {
        "id": "W_VfWIExmzbR",
        "colab_type": "text"
      },
      "source": [
        "\n",
        "## Choosing bases and encoding states\n",
        "\n",
        "Alice generates two binary strings. One encodes the basis for each qubit:\n",
        "\n",
        "0 $\\rightarrow$ Computational basis\n",
        "\n",
        "1  $\\rightarrow$ M basis\n",
        "\n",
        "The other encodes the state:\n",
        "\n",
        "0  $\\rightarrow \\ket{ 0 } or \\ket{m1/8} $ \n",
        "\n",
        "1  $\\rightarrow \\ket{ 1 } or \\ket{m5/8} $ \n",
        "\n",
        "Bob also generates a binary string and uses the same convention to choose a basis for measurement\n"
      ]
    },
    {
      "cell_type": "code",
      "metadata": {
        "id": "0HEKqtaZVwWv",
        "colab_type": "code",
        "colab": {
          "base_uri": "https://localhost:8080/",
          "height": 68
        },
        "outputId": "7c86dd28-0053-4db4-c78f-599de7148a8c"
      },
      "source": [
        "num_qubits = 24 \n",
        "\n",
        "\n",
        "alice_basis = np.random.randint(2, size=num_qubits)\n",
        "alice_state = np.random.randint(2, size=num_qubits)\n",
        "bob_basis = np.random.randint(2, size=num_qubits)\n",
        "\n",
        "\n",
        "print(alice_state)\n",
        "print(alice_basis)\n",
        "print(bob_basis)"
      ],
      "execution_count": 14,
      "outputs": [
        {
          "output_type": "stream",
          "text": [
            "[1 0 1 1 0 0 0 0 1 1 0 0 1 1 1 0 0 1 1 1 1 0 1 1]\n",
            "[0 0 1 0 1 1 1 0 1 0 1 0 0 0 1 0 0 0 1 0 0 1 0 1]\n",
            "[1 0 1 1 1 0 0 1 0 1 0 0 1 1 0 1 0 1 0 0 0 0 1 0]\n"
          ],
          "name": "stdout"
        }
      ]
    },
    {
      "cell_type": "markdown",
      "metadata": {
        "id": "pS2PFgpzq63z",
        "colab_type": "text"
      },
      "source": [
        "## Creating the circuit\n",
        "\n",
        "Based on the following results:\n",
        "\n",
        "$X\\ket{0} = \\ket{1}$\n",
        "\n",
        "$Ry(\\pi/8,0)\\ket{0} = \\ket{m1/8}$\n",
        "\n",
        "\n",
        "$ Ry(\\pi/8,0)X\\ket{0} = \\ket{m5\\pi/8}$\n",
        "\n",
        "Our algorithm to construct the circuit is as follows:\n",
        "\n",
        "1. Whenever Alice wants to encode 1 in a qubit, she applies an $X$ gate to the qubit. To encode 0, no action is needed.\n",
        "2. Wherever she wants to encode it in the M basis, she applies an $Ry(\\pi/8)$ gate. No action is necessary to encode a qubit in the computational basis.\n",
        "\n",
        "3. She then _sends_ the qubits to Bob (symbolically represented in this circuit using wires)\n",
        "\n",
        "4. Bob measures the qubits according to his binary string. To measure a qubit in the M basis, he applies an $Ry(-\\pi/8)$ gate to the corresponding qubit and then performs a mesurement on the computational basis. (Here $-\\pi/8$ can be interpreted as $+(2\\pi-\\pi/8)$  rotation of theta ) \n",
        "\n"
      ]
    },
    {
      "cell_type": "code",
      "metadata": {
        "id": "rzMnBoG3ZBQc",
        "colab_type": "code",
        "outputId": "495e1922-4301-438c-8e7c-650c5085d103",
        "colab": {
          "base_uri": "https://localhost:8080/",
          "height": 2927
        }
      },
      "source": [
        "q = QuantumRegister(num_qubits,'q')\n",
        "c = ClassicalRegister(num_qubits,'c')\n",
        "\n",
        "bb84 = QuantumCircuit(q,c,name='bb84')\n",
        "\n",
        "# Alice prepares her qubits\n",
        "for index, _ in enumerate(alice_basis):\n",
        "    if alice_state[index] == 1:\n",
        "        bb84.x(q[index])\n",
        "    if alice_basis[index] == 1:\n",
        "        bb84.ry(pi/8 , q[index])\n",
        "bb84.barrier()  \n",
        "\n",
        "# Bob measures the received qubits\n",
        "for index, _ in enumerate(bob_basis):\n",
        "    if bob_basis[index] == 1:\n",
        "        bb84.ry(-pi/8 ,q[index])\n",
        "        \n",
        "bb84.barrier()        \n",
        "bb84.measure(q,c)\n",
        "    \n",
        "            \n",
        "bb84.draw()\n"
      ],
      "execution_count": 15,
      "outputs": [
        {
          "output_type": "execute_result",
          "data": {
            "text/html": [
              "<pre style=\"word-wrap: normal;white-space: pre;line-height: 15px;\">             ┌───┐                    ░ ┌─────────────┐ ░ ┌─┐                  »\n",
              " q_0: |0>────┤ X ├────────────────────░─┤ Ry(-0.3927) ├─░─┤M├──────────────────»\n",
              "             └───┘                    ░ └─────────────┘ ░ └╥┘┌─┐               »\n",
              " q_1: |0>─────────────────────────────░─────────────────░──╫─┤M├───────────────»\n",
              "             ┌───┐     ┌────────────┐ ░ ┌─────────────┐ ░  ║ └╥┘┌─┐            »\n",
              " q_2: |0>────┤ X ├─────┤ Ry(0.3927) ├─░─┤ Ry(-0.3927) ├─░──╫──╫─┤M├────────────»\n",
              "             ├───┤     └────────────┘ ░ ├─────────────┤ ░  ║  ║ └╥┘┌─┐         »\n",
              " q_3: |0>────┤ X ├────────────────────░─┤ Ry(-0.3927) ├─░──╫──╫──╫─┤M├─────────»\n",
              "         ┌───┴───┴────┐               ░ ├─────────────┤ ░  ║  ║  ║ └╥┘┌─┐      »\n",
              " q_4: |0>┤ Ry(0.3927) ├───────────────░─┤ Ry(-0.3927) ├─░──╫──╫──╫──╫─┤M├──────»\n",
              "         ├────────────┤               ░ └─────────────┘ ░  ║  ║  ║  ║ └╥┘┌─┐   »\n",
              " q_5: |0>┤ Ry(0.3927) ├───────────────░─────────────────░──╫──╫──╫──╫──╫─┤M├───»\n",
              "         ├────────────┤               ░                 ░  ║  ║  ║  ║  ║ └╥┘┌─┐»\n",
              " q_6: |0>┤ Ry(0.3927) ├───────────────░─────────────────░──╫──╫──╫──╫──╫──╫─┤M├»\n",
              "         └────────────┘               ░ ┌─────────────┐ ░  ║  ║  ║  ║  ║  ║ └╥┘»\n",
              " q_7: |0>─────────────────────────────░─┤ Ry(-0.3927) ├─░──╫──╫──╫──╫──╫──╫──╫─»\n",
              "             ┌───┐     ┌────────────┐ ░ └─────────────┘ ░  ║  ║  ║  ║  ║  ║  ║ »\n",
              " q_8: |0>────┤ X ├─────┤ Ry(0.3927) ├─░─────────────────░──╫──╫──╫──╫──╫──╫──╫─»\n",
              "             ├───┤     └────────────┘ ░ ┌─────────────┐ ░  ║  ║  ║  ║  ║  ║  ║ »\n",
              " q_9: |0>────┤ X ├────────────────────░─┤ Ry(-0.3927) ├─░──╫──╫──╫──╫──╫──╫──╫─»\n",
              "         ┌───┴───┴────┐               ░ └─────────────┘ ░  ║  ║  ║  ║  ║  ║  ║ »\n",
              "q_10: |0>┤ Ry(0.3927) ├───────────────░─────────────────░──╫──╫──╫──╫──╫──╫──╫─»\n",
              "         └────────────┘               ░                 ░  ║  ║  ║  ║  ║  ║  ║ »\n",
              "q_11: |0>─────────────────────────────░─────────────────░──╫──╫──╫──╫──╫──╫──╫─»\n",
              "             ┌───┐                    ░ ┌─────────────┐ ░  ║  ║  ║  ║  ║  ║  ║ »\n",
              "q_12: |0>────┤ X ├────────────────────░─┤ Ry(-0.3927) ├─░──╫──╫──╫──╫──╫──╫──╫─»\n",
              "             ├───┤                    ░ ├─────────────┤ ░  ║  ║  ║  ║  ║  ║  ║ »\n",
              "q_13: |0>────┤ X ├────────────────────░─┤ Ry(-0.3927) ├─░──╫──╫──╫──╫──╫──╫──╫─»\n",
              "             ├───┤     ┌────────────┐ ░ └─────────────┘ ░  ║  ║  ║  ║  ║  ║  ║ »\n",
              "q_14: |0>────┤ X ├─────┤ Ry(0.3927) ├─░─────────────────░──╫──╫──╫──╫──╫──╫──╫─»\n",
              "             └───┘     └────────────┘ ░ ┌─────────────┐ ░  ║  ║  ║  ║  ║  ║  ║ »\n",
              "q_15: |0>─────────────────────────────░─┤ Ry(-0.3927) ├─░──╫──╫──╫──╫──╫──╫──╫─»\n",
              "                                      ░ └─────────────┘ ░  ║  ║  ║  ║  ║  ║  ║ »\n",
              "q_16: |0>─────────────────────────────░─────────────────░──╫──╫──╫──╫──╫──╫──╫─»\n",
              "             ┌───┐                    ░ ┌─────────────┐ ░  ║  ║  ║  ║  ║  ║  ║ »\n",
              "q_17: |0>────┤ X ├────────────────────░─┤ Ry(-0.3927) ├─░──╫──╫──╫──╫──╫──╫──╫─»\n",
              "             ├───┤     ┌────────────┐ ░ └─────────────┘ ░  ║  ║  ║  ║  ║  ║  ║ »\n",
              "q_18: |0>────┤ X ├─────┤ Ry(0.3927) ├─░─────────────────░──╫──╫──╫──╫──╫──╫──╫─»\n",
              "             ├───┤     └────────────┘ ░                 ░  ║  ║  ║  ║  ║  ║  ║ »\n",
              "q_19: |0>────┤ X ├────────────────────░─────────────────░──╫──╫──╫──╫──╫──╫──╫─»\n",
              "             ├───┤                    ░                 ░  ║  ║  ║  ║  ║  ║  ║ »\n",
              "q_20: |0>────┤ X ├────────────────────░─────────────────░──╫──╫──╫──╫──╫──╫──╫─»\n",
              "         ┌───┴───┴────┐               ░                 ░  ║  ║  ║  ║  ║  ║  ║ »\n",
              "q_21: |0>┤ Ry(0.3927) ├───────────────░─────────────────░──╫──╫──╫──╫──╫──╫──╫─»\n",
              "         └───┬───┬────┘               ░ ┌─────────────┐ ░  ║  ║  ║  ║  ║  ║  ║ »\n",
              "q_22: |0>────┤ X ├────────────────────░─┤ Ry(-0.3927) ├─░──╫──╫──╫──╫──╫──╫──╫─»\n",
              "             ├───┤     ┌────────────┐ ░ └─────────────┘ ░  ║  ║  ║  ║  ║  ║  ║ »\n",
              "q_23: |0>────┤ X ├─────┤ Ry(0.3927) ├─░─────────────────░──╫──╫──╫──╫──╫──╫──╫─»\n",
              "             └───┘     └────────────┘ ░                 ░  ║  ║  ║  ║  ║  ║  ║ »\n",
              "  c_0: 0 ══════════════════════════════════════════════════╩══╬══╬══╬══╬══╬══╬═»\n",
              "                                                              ║  ║  ║  ║  ║  ║ »\n",
              "  c_1: 0 ═════════════════════════════════════════════════════╩══╬══╬══╬══╬══╬═»\n",
              "                                                                 ║  ║  ║  ║  ║ »\n",
              "  c_2: 0 ════════════════════════════════════════════════════════╩══╬══╬══╬══╬═»\n",
              "                                                                    ║  ║  ║  ║ »\n",
              "  c_3: 0 ═══════════════════════════════════════════════════════════╩══╬══╬══╬═»\n",
              "                                                                       ║  ║  ║ »\n",
              "  c_4: 0 ══════════════════════════════════════════════════════════════╩══╬══╬═»\n",
              "                                                                          ║  ║ »\n",
              "  c_5: 0 ═════════════════════════════════════════════════════════════════╩══╬═»\n",
              "                                                                             ║ »\n",
              "  c_6: 0 ════════════════════════════════════════════════════════════════════╩═»\n",
              "                                                                               »\n",
              "  c_7: 0 ══════════════════════════════════════════════════════════════════════»\n",
              "                                                                               »\n",
              "  c_8: 0 ══════════════════════════════════════════════════════════════════════»\n",
              "                                                                               »\n",
              "  c_9: 0 ══════════════════════════════════════════════════════════════════════»\n",
              "                                                                               »\n",
              " c_10: 0 ══════════════════════════════════════════════════════════════════════»\n",
              "                                                                               »\n",
              " c_11: 0 ══════════════════════════════════════════════════════════════════════»\n",
              "                                                                               »\n",
              " c_12: 0 ══════════════════════════════════════════════════════════════════════»\n",
              "                                                                               »\n",
              " c_13: 0 ══════════════════════════════════════════════════════════════════════»\n",
              "                                                                               »\n",
              " c_14: 0 ══════════════════════════════════════════════════════════════════════»\n",
              "                                                                               »\n",
              " c_15: 0 ══════════════════════════════════════════════════════════════════════»\n",
              "                                                                               »\n",
              " c_16: 0 ══════════════════════════════════════════════════════════════════════»\n",
              "                                                                               »\n",
              " c_17: 0 ══════════════════════════════════════════════════════════════════════»\n",
              "                                                                               »\n",
              " c_18: 0 ══════════════════════════════════════════════════════════════════════»\n",
              "                                                                               »\n",
              " c_19: 0 ══════════════════════════════════════════════════════════════════════»\n",
              "                                                                               »\n",
              " c_20: 0 ══════════════════════════════════════════════════════════════════════»\n",
              "                                                                               »\n",
              " c_21: 0 ══════════════════════════════════════════════════════════════════════»\n",
              "                                                                               »\n",
              " c_22: 0 ══════════════════════════════════════════════════════════════════════»\n",
              "                                                                               »\n",
              " c_23: 0 ══════════════════════════════════════════════════════════════════════»\n",
              "                                                                               »\n",
              "«                                                         \n",
              "« q_0: ───────────────────────────────────────────────────\n",
              "«                                                         \n",
              "« q_1: ───────────────────────────────────────────────────\n",
              "«                                                         \n",
              "« q_2: ───────────────────────────────────────────────────\n",
              "«                                                         \n",
              "« q_3: ───────────────────────────────────────────────────\n",
              "«                                                         \n",
              "« q_4: ───────────────────────────────────────────────────\n",
              "«                                                         \n",
              "« q_5: ───────────────────────────────────────────────────\n",
              "«                                                         \n",
              "« q_6: ───────────────────────────────────────────────────\n",
              "«      ┌─┐                                                \n",
              "« q_7: ┤M├────────────────────────────────────────────────\n",
              "«      └╥┘┌─┐                                             \n",
              "« q_8: ─╫─┤M├─────────────────────────────────────────────\n",
              "«       ║ └╥┘┌─┐                                          \n",
              "« q_9: ─╫──╫─┤M├──────────────────────────────────────────\n",
              "«       ║  ║ └╥┘┌─┐                                       \n",
              "«q_10: ─╫──╫──╫─┤M├───────────────────────────────────────\n",
              "«       ║  ║  ║ └╥┘┌─┐                                    \n",
              "«q_11: ─╫──╫──╫──╫─┤M├────────────────────────────────────\n",
              "«       ║  ║  ║  ║ └╥┘┌─┐                                 \n",
              "«q_12: ─╫──╫──╫──╫──╫─┤M├─────────────────────────────────\n",
              "«       ║  ║  ║  ║  ║ └╥┘┌─┐                              \n",
              "«q_13: ─╫──╫──╫──╫──╫──╫─┤M├──────────────────────────────\n",
              "«       ║  ║  ║  ║  ║  ║ └╥┘┌─┐                           \n",
              "«q_14: ─╫──╫──╫──╫──╫──╫──╫─┤M├───────────────────────────\n",
              "«       ║  ║  ║  ║  ║  ║  ║ └╥┘┌─┐                        \n",
              "«q_15: ─╫──╫──╫──╫──╫──╫──╫──╫─┤M├────────────────────────\n",
              "«       ║  ║  ║  ║  ║  ║  ║  ║ └╥┘┌─┐                     \n",
              "«q_16: ─╫──╫──╫──╫──╫──╫──╫──╫──╫─┤M├─────────────────────\n",
              "«       ║  ║  ║  ║  ║  ║  ║  ║  ║ └╥┘┌─┐                  \n",
              "«q_17: ─╫──╫──╫──╫──╫──╫──╫──╫──╫──╫─┤M├──────────────────\n",
              "«       ║  ║  ║  ║  ║  ║  ║  ║  ║  ║ └╥┘┌─┐               \n",
              "«q_18: ─╫──╫──╫──╫──╫──╫──╫──╫──╫──╫──╫─┤M├───────────────\n",
              "«       ║  ║  ║  ║  ║  ║  ║  ║  ║  ║  ║ └╥┘┌─┐            \n",
              "«q_19: ─╫──╫──╫──╫──╫──╫──╫──╫──╫──╫──╫──╫─┤M├────────────\n",
              "«       ║  ║  ║  ║  ║  ║  ║  ║  ║  ║  ║  ║ └╥┘┌─┐         \n",
              "«q_20: ─╫──╫──╫──╫──╫──╫──╫──╫──╫──╫──╫──╫──╫─┤M├─────────\n",
              "«       ║  ║  ║  ║  ║  ║  ║  ║  ║  ║  ║  ║  ║ └╥┘┌─┐      \n",
              "«q_21: ─╫──╫──╫──╫──╫──╫──╫──╫──╫──╫──╫──╫──╫──╫─┤M├──────\n",
              "«       ║  ║  ║  ║  ║  ║  ║  ║  ║  ║  ║  ║  ║  ║ └╥┘┌─┐   \n",
              "«q_22: ─╫──╫──╫──╫──╫──╫──╫──╫──╫──╫──╫──╫──╫──╫──╫─┤M├───\n",
              "«       ║  ║  ║  ║  ║  ║  ║  ║  ║  ║  ║  ║  ║  ║  ║ └╥┘┌─┐\n",
              "«q_23: ─╫──╫──╫──╫──╫──╫──╫──╫──╫──╫──╫──╫──╫──╫──╫──╫─┤M├\n",
              "«       ║  ║  ║  ║  ║  ║  ║  ║  ║  ║  ║  ║  ║  ║  ║  ║ └╥┘\n",
              "« c_0: ═╬══╬══╬══╬══╬══╬══╬══╬══╬══╬══╬══╬══╬══╬══╬══╬══╬═\n",
              "«       ║  ║  ║  ║  ║  ║  ║  ║  ║  ║  ║  ║  ║  ║  ║  ║  ║ \n",
              "« c_1: ═╬══╬══╬══╬══╬══╬══╬══╬══╬══╬══╬══╬══╬══╬══╬══╬══╬═\n",
              "«       ║  ║  ║  ║  ║  ║  ║  ║  ║  ║  ║  ║  ║  ║  ║  ║  ║ \n",
              "« c_2: ═╬══╬══╬══╬══╬══╬══╬══╬══╬══╬══╬══╬══╬══╬══╬══╬══╬═\n",
              "«       ║  ║  ║  ║  ║  ║  ║  ║  ║  ║  ║  ║  ║  ║  ║  ║  ║ \n",
              "« c_3: ═╬══╬══╬══╬══╬══╬══╬══╬══╬══╬══╬══╬══╬══╬══╬══╬══╬═\n",
              "«       ║  ║  ║  ║  ║  ║  ║  ║  ║  ║  ║  ║  ║  ║  ║  ║  ║ \n",
              "« c_4: ═╬══╬══╬══╬══╬══╬══╬══╬══╬══╬══╬══╬══╬══╬══╬══╬══╬═\n",
              "«       ║  ║  ║  ║  ║  ║  ║  ║  ║  ║  ║  ║  ║  ║  ║  ║  ║ \n",
              "« c_5: ═╬══╬══╬══╬══╬══╬══╬══╬══╬══╬══╬══╬══╬══╬══╬══╬══╬═\n",
              "«       ║  ║  ║  ║  ║  ║  ║  ║  ║  ║  ║  ║  ║  ║  ║  ║  ║ \n",
              "« c_6: ═╬══╬══╬══╬══╬══╬══╬══╬══╬══╬══╬══╬══╬══╬══╬══╬══╬═\n",
              "«       ║  ║  ║  ║  ║  ║  ║  ║  ║  ║  ║  ║  ║  ║  ║  ║  ║ \n",
              "« c_7: ═╩══╬══╬══╬══╬══╬══╬══╬══╬══╬══╬══╬══╬══╬══╬══╬══╬═\n",
              "«          ║  ║  ║  ║  ║  ║  ║  ║  ║  ║  ║  ║  ║  ║  ║  ║ \n",
              "« c_8: ════╩══╬══╬══╬══╬══╬══╬══╬══╬══╬══╬══╬══╬══╬══╬══╬═\n",
              "«             ║  ║  ║  ║  ║  ║  ║  ║  ║  ║  ║  ║  ║  ║  ║ \n",
              "« c_9: ═══════╩══╬══╬══╬══╬══╬══╬══╬══╬══╬══╬══╬══╬══╬══╬═\n",
              "«                ║  ║  ║  ║  ║  ║  ║  ║  ║  ║  ║  ║  ║  ║ \n",
              "«c_10: ══════════╩══╬══╬══╬══╬══╬══╬══╬══╬══╬══╬══╬══╬══╬═\n",
              "«                   ║  ║  ║  ║  ║  ║  ║  ║  ║  ║  ║  ║  ║ \n",
              "«c_11: ═════════════╩══╬══╬══╬══╬══╬══╬══╬══╬══╬══╬══╬══╬═\n",
              "«                      ║  ║  ║  ║  ║  ║  ║  ║  ║  ║  ║  ║ \n",
              "«c_12: ════════════════╩══╬══╬══╬══╬══╬══╬══╬══╬══╬══╬══╬═\n",
              "«                         ║  ║  ║  ║  ║  ║  ║  ║  ║  ║  ║ \n",
              "«c_13: ═══════════════════╩══╬══╬══╬══╬══╬══╬══╬══╬══╬══╬═\n",
              "«                            ║  ║  ║  ║  ║  ║  ║  ║  ║  ║ \n",
              "«c_14: ══════════════════════╩══╬══╬══╬══╬══╬══╬══╬══╬══╬═\n",
              "«                               ║  ║  ║  ║  ║  ║  ║  ║  ║ \n",
              "«c_15: ═════════════════════════╩══╬══╬══╬══╬══╬══╬══╬══╬═\n",
              "«                                  ║  ║  ║  ║  ║  ║  ║  ║ \n",
              "«c_16: ════════════════════════════╩══╬══╬══╬══╬══╬══╬══╬═\n",
              "«                                     ║  ║  ║  ║  ║  ║  ║ \n",
              "«c_17: ═══════════════════════════════╩══╬══╬══╬══╬══╬══╬═\n",
              "«                                        ║  ║  ║  ║  ║  ║ \n",
              "«c_18: ══════════════════════════════════╩══╬══╬══╬══╬══╬═\n",
              "«                                           ║  ║  ║  ║  ║ \n",
              "«c_19: ═════════════════════════════════════╩══╬══╬══╬══╬═\n",
              "«                                              ║  ║  ║  ║ \n",
              "«c_20: ════════════════════════════════════════╩══╬══╬══╬═\n",
              "«                                                 ║  ║  ║ \n",
              "«c_21: ═══════════════════════════════════════════╩══╬══╬═\n",
              "«                                                    ║  ║ \n",
              "«c_22: ══════════════════════════════════════════════╩══╬═\n",
              "«                                                       ║ \n",
              "«c_23: ═════════════════════════════════════════════════╩═\n",
              "«                                                         </pre>"
            ],
            "text/plain": [
              "<qiskit.visualization.text.TextDrawing at 0x7f74845535c0>"
            ]
          },
          "metadata": {
            "tags": []
          },
          "execution_count": 15
        }
      ]
    },
    {
      "cell_type": "code",
      "metadata": {
        "id": "R-YIvzQyXFdr",
        "colab_type": "code",
        "outputId": "55cfc99a-23b2-45ac-e49e-81ca9b036300",
        "colab": {
          "base_uri": "https://localhost:8080/",
          "height": 90
        }
      },
      "source": [
        "#USE THESE LINES TO RUN THE CODE ON IBMQ MACHINES WITH YOUR IDENTIFICATION TOKEN\n",
        "\n",
        "# token = ''\n",
        "# IBMQ.enable_account(token)\n",
        "# IBMQ.backends()\n",
        "\n"
      ],
      "execution_count": 0,
      "outputs": [
        {
          "output_type": "execute_result",
          "data": {
            "text/plain": [
              "[<IBMQBackend('ibmqx4') from IBMQ()>,\n",
              " <IBMQBackend('ibmqx2') from IBMQ()>,\n",
              " <IBMQBackend('ibmq_16_melbourne') from IBMQ()>,\n",
              " <IBMQSimulator('ibmq_qasm_simulator') from IBMQ()>]"
            ]
          },
          "metadata": {
            "tags": []
          },
          "execution_count": 5
        }
      ]
    },
    {
      "cell_type": "markdown",
      "metadata": {
        "id": "DXypnuFRv5Z2",
        "colab_type": "text"
      },
      "source": [
        "## Performing the actual experiment\n",
        "\n",
        "Run the code on the desired backend. Use the cell above to authenticate yourself to the IBMQ network."
      ]
    },
    {
      "cell_type": "code",
      "metadata": {
        "id": "p5BGfk0gOP5y",
        "colab_type": "code",
        "outputId": "bdceda94-2e40-4c4e-d13c-06e4cbfb7134",
        "colab": {
          "base_uri": "https://localhost:8080/",
          "height": 2074
        }
      },
      "source": [
        "backend = BasicAer.get_backend('qasm_simulator')\n",
        "# backend = IBMQ.get_backend('ibmq_16_melbourne')\n",
        "# backend = IBMQ.get_backend('ibmq_qasm_simulator')\n",
        "\n",
        "job = execute(bb84,backend,shots=1024)\n",
        "\n",
        "job_monitor(job)\n",
        "\n",
        "result = job.result()\n",
        "counts = result.get_counts()\n",
        "\n",
        "# Prints out all the measured binary strings by Bob (reversed)\n",
        "for count in [*counts]:\n",
        "    print(count) "
      ],
      "execution_count": 16,
      "outputs": [
        {
          "output_type": "stream",
          "text": [
            "Job Status: job has successfully run\n",
            "110111100110001000001101\n",
            "110111100101001100001100\n",
            "110111101111011100001101\n",
            "110111100111001001001101\n",
            "110111100111011110001101\n",
            "110111000111001101001101\n",
            "110110100011001100001101\n",
            "010111100111001000001101\n",
            "110111100010001000001101\n",
            "110111100001001100001101\n",
            "110111100111011100001101\n",
            "110111100011001101001101\n",
            "110111101111001110101101\n",
            "010111100111011000001101\n",
            "110111101111001100000101\n",
            "111110100111001100001101\n",
            "010111000101001100001101\n",
            "110110100110001100001101\n",
            "110111101011001101000101\n",
            "110110100111001100001101\n",
            "110111100111001101001101\n",
            "110111000110001100001101\n",
            "110111100011011100001101\n",
            "110111100111001100000100\n",
            "111111101111001100001101\n",
            "010111100110001100001101\n",
            "110111100101001100000101\n",
            "110110100111000100001101\n",
            "110110000111000100001101\n",
            "111110100111001100101101\n",
            "110111100110011100001101\n",
            "110111100111011000001101\n",
            "100111100111001100101101\n",
            "110111100011001000001101\n",
            "110111100111000101101101\n",
            "110111000111001100000101\n",
            "110111100100001100001101\n",
            "000111101111001100001101\n",
            "110111100111011101001100\n",
            "110111100111000100001100\n",
            "100111100111001100001101\n",
            "100111100111001000001101\n",
            "110111100101011100001101\n",
            "010111100111001100001101\n",
            "100111100101001100001101\n",
            "110111100011001110001101\n",
            "110111000101001100001101\n",
            "110111101111001010001101\n",
            "110111100111001101001100\n",
            "110111001111001000001101\n",
            "100111101111001100001101\n",
            "010111100111011100001101\n",
            "110111100111001110000101\n",
            "110111100011001100001100\n",
            "110111100111001000000101\n",
            "110110100111001100001100\n",
            "110111101101001110101101\n",
            "110111100111001100101101\n",
            "100111100111001100101100\n",
            "111111100111001100001101\n",
            "100111100111001100001100\n",
            "110111101111001101001101\n",
            "110111101111001100001101\n",
            "110111100111000100001101\n",
            "110111101111001110001101\n",
            "110111100111000101001101\n",
            "110111100111001000101101\n",
            "110110100111001100101101\n",
            "110111100111001110001100\n",
            "110111100101001100001101\n",
            "110111101111001000001101\n",
            "110111100111000000001101\n",
            "110111000111001100101101\n",
            "110111101111001100101101\n",
            "110111100111000100101101\n",
            "110111100111001101000101\n",
            "010111100111001101001101\n",
            "010111100111001100001100\n",
            "111111100110001100001101\n",
            "110111000111001100001101\n",
            "110111100011001100001101\n",
            "111111100111001000001101\n",
            "110111100011001000001100\n",
            "110111100010001100001101\n",
            "110110100111001110001100\n",
            "110111100111001100001101\n",
            "110111100111001100000101\n",
            "110111100111001100001100\n",
            "110111100101000100001101\n",
            "110111100011001100000101\n",
            "110111100111011100101101\n",
            "010111100111001100101101\n",
            "110111000011001100001101\n",
            "100110100111001100001101\n",
            "110111100111001000001101\n",
            "110111100111001101101101\n",
            "110111101111001101001100\n",
            "010110100111001100001101\n",
            "110111100110001100001101\n",
            "110111101101001100001101\n",
            "000111100111000100000101\n",
            "000111100111001100001101\n",
            "010111100111001101101101\n",
            "110111100111001110001101\n",
            "110111000110001000001101\n",
            "110111101101001101001101\n",
            "100111100111010100001101\n",
            "110111100110000100001100\n",
            "110111100110001100100101\n",
            "100111000111001100001101\n",
            "111111100111001100100101\n",
            "110111100111001100101100\n",
            "111111100011001100001101\n",
            "111111100101001100001101\n",
            "110111000111001100001100\n",
            "110111100110001100101101\n",
            "110110100111011100001101\n",
            "110110100111001000001101\n",
            "110111100110001110001101\n",
            "111111000111001100001101\n"
          ],
          "name": "stdout"
        }
      ]
    },
    {
      "cell_type": "code",
      "metadata": {
        "id": "Sq2VoUgFSxgg",
        "colab_type": "code",
        "outputId": "bfd501f7-aa6c-4e62-ba49-0ebd2fca0b47",
        "colab": {
          "base_uri": "https://localhost:8080/",
          "height": 2057
        }
      },
      "source": [
        "for i,temp_key in enumerate([*counts]):\n",
        "    temp_key_rev = temp_key[::-1] # qubit orders are reversed in qiskit\n",
        "    alice_key = ''\n",
        "    bob_key= ''\n",
        "    for i in range(num_qubits):\n",
        "        if alice_basis[i] == bob_basis[i]: # Only choose bits where Alice and Bob chose the same basis\n",
        "             bob_key += str(temp_key_rev[i])\n",
        "             alice_key += str(alice_state[i])\n",
        "    print (alice_key + \"       \"+bob_key)"
      ],
      "execution_count": 19,
      "outputs": [
        {
          "output_type": "stream",
          "text": [
            "0100011       0100011\n",
            "0100011       0100011\n",
            "0100011       0100011\n",
            "0100011       0100011\n",
            "0100011       0100011\n",
            "0100011       0100011\n",
            "0100011       0100011\n",
            "0100011       0100011\n",
            "0100011       0100011\n",
            "0100011       0100011\n",
            "0100011       0100011\n",
            "0100011       0100011\n",
            "0100011       0100011\n",
            "0100011       0100011\n",
            "0100011       0100011\n",
            "0100011       0100011\n",
            "0100011       0100011\n",
            "0100011       0100011\n",
            "0100011       0100011\n",
            "0100011       0100011\n",
            "0100011       0100011\n",
            "0100011       0100011\n",
            "0100011       0100011\n",
            "0100011       0100011\n",
            "0100011       0100011\n",
            "0100011       0100011\n",
            "0100011       0100011\n",
            "0100011       0100011\n",
            "0100011       0100011\n",
            "0100011       0100011\n",
            "0100011       0100011\n",
            "0100011       0100011\n",
            "0100011       0100011\n",
            "0100011       0100011\n",
            "0100011       0100011\n",
            "0100011       0100011\n",
            "0100011       0100011\n",
            "0100011       0100011\n",
            "0100011       0100011\n",
            "0100011       0100011\n",
            "0100011       0100011\n",
            "0100011       0100011\n",
            "0100011       0100011\n",
            "0100011       0100011\n",
            "0100011       0100011\n",
            "0100011       0100011\n",
            "0100011       0100011\n",
            "0100011       0100011\n",
            "0100011       0100011\n",
            "0100011       0100011\n",
            "0100011       0100011\n",
            "0100011       0100011\n",
            "0100011       0100011\n",
            "0100011       0100011\n",
            "0100011       0100011\n",
            "0100011       0100011\n",
            "0100011       0100011\n",
            "0100011       0100011\n",
            "0100011       0100011\n",
            "0100011       0100011\n",
            "0100011       0100011\n",
            "0100011       0100011\n",
            "0100011       0100011\n",
            "0100011       0100011\n",
            "0100011       0100011\n",
            "0100011       0100011\n",
            "0100011       0100011\n",
            "0100011       0100011\n",
            "0100011       0100011\n",
            "0100011       0100011\n",
            "0100011       0100011\n",
            "0100011       0100011\n",
            "0100011       0100011\n",
            "0100011       0100011\n",
            "0100011       0100011\n",
            "0100011       0100011\n",
            "0100011       0100011\n",
            "0100011       0100011\n",
            "0100011       0100011\n",
            "0100011       0100011\n",
            "0100011       0100011\n",
            "0100011       0100011\n",
            "0100011       0100011\n",
            "0100011       0100011\n",
            "0100011       0100011\n",
            "0100011       0100011\n",
            "0100011       0100011\n",
            "0100011       0100011\n",
            "0100011       0100011\n",
            "0100011       0100011\n",
            "0100011       0100011\n",
            "0100011       0100011\n",
            "0100011       0100011\n",
            "0100011       0100011\n",
            "0100011       0100011\n",
            "0100011       0100011\n",
            "0100011       0100011\n",
            "0100011       0100011\n",
            "0100011       0100011\n",
            "0100011       0100011\n",
            "0100011       0100011\n",
            "0100011       0100011\n",
            "0100011       0100011\n",
            "0100011       0100011\n",
            "0100011       0100011\n",
            "0100011       0100011\n",
            "0100011       0100011\n",
            "0100011       0100011\n",
            "0100011       0100011\n",
            "0100011       0100011\n",
            "0100011       0100011\n",
            "0100011       0100011\n",
            "0100011       0100011\n",
            "0100011       0100011\n",
            "0100011       0100011\n",
            "0100011       0100011\n",
            "0100011       0100011\n",
            "0100011       0100011\n",
            "0100011       0100011\n",
            "0100011       0100011\n"
          ],
          "name": "stdout"
        }
      ]
    }
  ]
}